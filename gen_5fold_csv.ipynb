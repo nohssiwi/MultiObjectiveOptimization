{
 "cells": [
  {
   "cell_type": "code",
   "execution_count": 8,
   "metadata": {},
   "outputs": [],
   "source": [
    "import os\n",
    "import numpy as np\n",
    "import pandas as pd \n",
    "import csv\n",
    "\n",
    "from sklearn.model_selection import KFold"
   ]
  },
  {
   "cell_type": "code",
   "execution_count": 56,
   "metadata": {},
   "outputs": [],
   "source": [
    "root_path = os.getcwd() \n",
    "data_path = os.path.join(root_path, 'Qomex_2020_mobile_game_imges/subjective_scores_v2')\n",
    "data = pd.read_csv(data_path + '/all.csv')"
   ]
  },
  {
   "cell_type": "code",
   "execution_count": 51,
   "metadata": {},
   "outputs": [],
   "source": [
    "data = data[data['type']=='train']\n",
    "data.reset_index(drop=True, inplace=True)"
   ]
  },
  {
   "cell_type": "code",
   "execution_count": 52,
   "metadata": {},
   "outputs": [],
   "source": [
    "data['5fold'] = 0\n",
    "kf = KFold(n_splits=5, random_state=None, shuffle=True)\n",
    "i = 1\n",
    "for train_index, test_index in kf.split(data):\n",
    "    data.loc[test_index, '5fold'] = i\n",
    "    i = i + 1"
   ]
  },
  {
   "cell_type": "code",
   "execution_count": 53,
   "metadata": {},
   "outputs": [
    {
     "name": "stdout",
     "output_type": "stream",
     "text": [
      "   id                                          filename  o_0  o_1  o_2  o_3  \\\n",
      "0   0                com.tencent.tmgp.sskgame/img_1.png    2    3    4    3   \n",
      "1   1                         tw.txwy.and.wll/img_2.png    3    3    3    4   \n",
      "2   2  com.kongregate.mobile.throwdown.google/img_3.png    3    2    3    3   \n",
      "3   3                    com.kohistani.Hunter/img_3.png    2    2    2    3   \n",
      "4   4             com.futureplay.battleground/img_0.png    2    4    4    3   \n",
      "5   5                   com.ketchapp.bikerush/img_7.png    1    3    3    3   \n",
      "6   6    com.JindoBlu.TwoPlayerGamesChallenge/img_4.png    2    2    2    3   \n",
      "7   7             com.supertapx.bigbigballer/img_10.png    2    3    2    2   \n",
      "8   8           com.gamedevltd.destinywarfare/img_3.png    2    3    3    3   \n",
      "9   9                    com.tencent.yunmeng/img_18.png    3    4    4    4   \n",
      "\n",
      "   o_4  o_5  o_6  o_7  ...  f_12  f_13  f_14  f_15  f_16  f_17  f_18  f_19  \\\n",
      "0    3    2    4    3  ...     3     4     3     4     1     4     1     3   \n",
      "1    3    3    3    4  ...     4     3     2     2     3     4     3     2   \n",
      "2    3    3    3    2  ...     2     4     5     2     5     3     3     1   \n",
      "3    2    2    1    2  ...     1     3     1     2     1     4     1     1   \n",
      "4    3    3    3    3  ...     4     4     2     3     1     2     2     1   \n",
      "5    3    3    1    2  ...     1     4     3     2     1     2     1     1   \n",
      "6    2    3    1    3  ...     2     3     2     1     1     2     2     1   \n",
      "7    3    3    1    2  ...     3     3     3     2     1     2     1     1   \n",
      "8    3    2    3    4  ...     2     3     1     4     2     3     3     4   \n",
      "9    3    4    4    4  ...     4     4     3     3     4     4     3     3   \n",
      "\n",
      "    type  5fold  \n",
      "0  train      1  \n",
      "1  train      4  \n",
      "2  train      2  \n",
      "3  train      5  \n",
      "4  train      1  \n",
      "5  train      1  \n",
      "6  train      5  \n",
      "7  train      3  \n",
      "8  train      2  \n",
      "9  train      5  \n",
      "\n",
      "[10 rows x 84 columns]\n"
     ]
    }
   ],
   "source": [
    "print(data.head(10))"
   ]
  },
  {
   "cell_type": "code",
   "execution_count": 55,
   "metadata": {},
   "outputs": [],
   "source": [
    "data.to_csv(data_path + '/5fold.csv', index=False, header=True)"
   ]
  }
 ],
 "metadata": {
  "kernelspec": {
   "display_name": "Python 3",
   "language": "python",
   "name": "python3"
  },
  "language_info": {
   "codemirror_mode": {
    "name": "ipython",
    "version": 3
   },
   "file_extension": ".py",
   "mimetype": "text/x-python",
   "name": "python",
   "nbconvert_exporter": "python",
   "pygments_lexer": "ipython3",
   "version": "3.6.12"
  }
 },
 "nbformat": 4,
 "nbformat_minor": 4
}
