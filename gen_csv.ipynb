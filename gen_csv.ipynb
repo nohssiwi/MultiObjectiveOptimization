{
 "cells": [
  {
   "cell_type": "markdown",
   "metadata": {
    "pycharm": {
     "name": "#%% md\n"
    }
   },
   "source": [
    "# Adapted csv file for datasets"
   ]
  },
  {
   "cell_type": "code",
   "execution_count": 2,
   "metadata": {},
   "outputs": [],
   "source": [
    "import os\n",
    "import numpy as np\n",
    "import pandas as pd \n",
    "import csv"
   ]
  },
  {
   "cell_type": "markdown",
   "metadata": {
    "pycharm": {
     "name": "#%% md\n"
    }
   },
   "source": [
    "## read data"
   ]
  },
  {
   "cell_type": "code",
   "execution_count": 3,
   "metadata": {
    "jupyter": {
     "outputs_hidden": false
    },
    "pycharm": {
     "name": "#%%\n"
    }
   },
   "outputs": [
    {
     "name": "stdout",
     "output_type": "stream",
     "text": [
      "        id                                          filename  o_0  o_1  o_2  \\\n",
      "0        0                com.tencent.tmgp.sskgame/img_1.png    2    3    4   \n",
      "1        1                         tw.txwy.and.wll/img_2.png    3    3    3   \n",
      "2        2  com.kongregate.mobile.throwdown.google/img_3.png    3    2    3   \n",
      "3        3                    com.kohistani.Hunter/img_3.png    2    2    2   \n",
      "4        4             com.futureplay.battleground/img_0.png    2    4    4   \n",
      "...    ...                                               ...  ...  ...  ...   \n",
      "1086  1086                        tw.txwy.and.snqx/img_7.png    3    4    3   \n",
      "1087  1087                         com.titan.cd.gb/img_5.png    3    4    4   \n",
      "1088  1088                   com.tencent.tmgp.tstl/img_9.png    3    3    4   \n",
      "1089  1089  free.os.jump.superbros.adventure.world/img_6.png    3    3    3   \n",
      "1090  1090                        tw.txwy.and.snqx/img_0.png    3    3    4   \n",
      "\n",
      "      o_3  o_4  o_5  o_6  o_7  ...  f_10  f_11  f_12  f_13  f_14  f_15  f_16  \\\n",
      "0       3    3    2    4    3  ...     2     3     3     4     3     4     1   \n",
      "1       4    3    3    3    4  ...     3     5     4     3     2     2     3   \n",
      "2       3    3    3    3    2  ...     5     4     2     4     5     2     5   \n",
      "3       3    2    2    1    2  ...     3     4     1     3     1     2     1   \n",
      "4       3    3    3    3    3  ...     3     3     4     4     2     3     1   \n",
      "...   ...  ...  ...  ...  ...  ...   ...   ...   ...   ...   ...   ...   ...   \n",
      "1086    3    2    4    3    4  ...     3     4     2     4     3     4     4   \n",
      "1087    4    3    3    3    3  ...     1     4     1     4     2     3     1   \n",
      "1088    4    2    3    3    5  ...     1     3     3     4     3     3     4   \n",
      "1089    3    3    3    2    3  ...     1     1     1     2     5     3     3   \n",
      "1090    3    3    4    4    5  ...     4     5     3     4     4     4     4   \n",
      "\n",
      "      f_17  f_18  f_19  \n",
      "0        4     1     3  \n",
      "1        4     3     2  \n",
      "2        3     3     1  \n",
      "3        4     1     1  \n",
      "4        2     2     1  \n",
      "...    ...   ...   ...  \n",
      "1086     3     3     1  \n",
      "1087     3     2     3  \n",
      "1088     3     2     3  \n",
      "1089     2     3     1  \n",
      "1090     4     3     2  \n",
      "\n",
      "[1091 rows x 82 columns]\n"
     ]
    }
   ],
   "source": [
    "root_path = os.getcwd() \n",
    "images_path = os.path.join(root_path,'Qomex_2020_mobile_game_imges/original_images')\n",
    "data_path = os.path.join(root_path, 'Qomex_2020_mobile_game_imges/subjective_scores_v2')\n",
    "\n",
    "dataset_o =  os.path.join(data_path, 'score_overall.csv')\n",
    "dataset_c =  os.path.join(data_path, 'score_colorfulness.csv')\n",
    "dataset_h =  os.path.join(data_path, 'score_color_harmony.csv')\n",
    "dataset_f =  os.path.join(data_path, 'score_fineness.csv')\n",
    "\n",
    "ids_o = pd.read_csv(dataset_o)\n",
    "ids_o.columns = ['o_' + c for c in ids_o.columns]\n",
    "\n",
    "ids_c = pd.read_csv(dataset_c)\n",
    "ids_c.columns = ['c_' + c for c in ids_c.columns]\n",
    "\n",
    "ids_h = pd.read_csv(dataset_h)\n",
    "ids_h.columns = ['h_' + c for c in ids_h.columns]\n",
    "\n",
    "ids_f = pd.read_csv(dataset_f)\n",
    "ids_f.columns = ['f_' + c for c in ids_f.columns]\n",
    "\n",
    "\n",
    "all = pd.concat([ids_o, ids_c, ids_h, ids_f], axis=1)\n",
    "all = all.drop(all.columns[[22, 23, 24, 45, 46, 47, 68, 69, 70, 91]], axis = 1)\n",
    "all = all.rename(columns={'o_Unnamed: 0':'id'})\n",
    "all = all.rename(columns={'o_filename':'filename'})\n",
    "\n",
    "\n",
    "def change_filename(filename) :\n",
    "    index = filename.rfind('_', 0, len(filename)-7)\n",
    "    return filename[:index] + '/' + filename[index+1:]\n",
    "\n",
    "\n",
    "all['filename'] = all['filename'].map(lambda x : change_filename(x))\n",
    "\n",
    "print(all)"
   ]
  },
  {
   "cell_type": "markdown",
   "metadata": {},
   "source": [
    "## generate test list and valid list"
   ]
  },
  {
   "cell_type": "code",
   "execution_count": 4,
   "metadata": {},
   "outputs": [
    {
     "name": "stdout",
     "output_type": "stream",
     "text": [
      "['com.tencent.swy/img_14.png', 'com.tencent.gwgo/img_11.png', 'tw.com.iwplay.pwm/img_1.png', 'com.tencent.KiHan/img_4.png', 'com.gameloft.android.ANMP.GloftM5HM/img_14.png', 'com.zeptolab.cats.google/img_0.png', 'com.kongregate.mobile.burritobison3.google/img_2.png', 'com.miniclip.bowmasters/img_1.png', 'tw.txwy.and.snqx/img_7.png', 'com.jiinfeng3d.bfrdemo/img_6.png', 'com.titan.cd.gb/img_11.png', 'com.manababa.BeggarKing2/img_0.png', 'com.korovankvy.drunkenfights/img_3.png', 'com.kongregate.mobile.throwdown.google/img_2.png', 'com.tencent.ig/img_3.png', 'com.cassette.aquapark/img_3.png', 'com.netease.ddsfna/img_9.png', 'com.xiaomeng.fategrandorder/img_9.png', 'com.tencent.tmgp.tx/img_4.png', 'com.rtsoft.growtopia/img_12.png', 'com.papegames.nn4.tw/img_4.png', 'com.kohistani.Hunter/img_4.png', 'com.prpr.musedash/img_1.png', 'com.hypergryph.arknights/img_0.png', 'com.funworksstudio.captainvsthunder/img_1.png', 'com.fivebyte.lifeisagame/img_1.png', 'com.tencent.pao/img_0.png', 'com.lima.doodlejump/img_0.png', 'com.tencent.raziel/img_3.png', 'com.netease.onmyoji.na/img_11.png', 'com.king.candycrushsaga/img_6.png', 'com.ketchapp.bikerush/img_8.png', 'com.CubeSoftware.BattleOfWarships/img_10.png', 'com.sigmateam.alienshootermobile.free/img_4.png', 'com.gameinsight.mirrorsofalbionandroid/img_0.png', 'com.futureplay.battleground/img_5.png', 'com.os.airforce/img_3.png', 'com.sofunny.Sausage/img_8.png', 'com.budgestudios.googleplay.ThomasAndFriendsMagicalTracks/img_9.png', 'com.rovio.battlebay/img_6.png', 'com.cherrypickgames.olimpiagames2016/img_5.png', 'com.garena.game.kgtw/img_7.png', 'com.madhead.tos.zh/img_7.png', 'com.superwave.goldrush.android.googleplay/img_0.png', 'com.vshower.prd_sr/img_0.png', 'com.garena.game.fctw/img_9.png', 'com.pocapp.castlecats/img_0.png', 'com.ea.game.simcitymobile_row/img_1.png', 'com.heliogames.westland/img_2.png', 'com.netease.mrzhna/img_3.png', 'com.playgendary.sportmasters/img_0.png', 'com.supercell.clashroyale/img_3.png', 'com.tencent.gnyx.jiaqi/img_2.png', 'com.gamedevltd.destinywarfare/img_7.png', 'com.whatgames.android.ANMP.FAHM/img_1.png', 'com.herogame.gplay.magicminecraft.mmorpg/img_1.png', 'com.ChillyRoom.DungeonShooter/img_8.png', 'com.tencent.af/img_1.png', 'com.ankama.dragnboom/img_2.png', 'com.qcplay.slimegogogo/img_4.png', 'jp.co.capcom.palmcn/img_6.png', 'com.tencent.yunmeng/img_6.png', 'com.supercell.brawlstars/img_3.png', 'com.wordmobile.prisonstorm/img_5.png', 'com.endless.run.oz.temple.escape/img_4.png', 'net.kairosoft.android.bouken_en/img_2.png', 'tw.txwy.and.wll/img_6.png', 'com.supertapx.bigbigballer/img_13.png', 'com.gamedreamer.tw.newstzbhk/img_6.png', 'com.generagames.resistance/img_4.png', 'com.gravity.ro.and/img_2.png', 'com.tencent.tmgp.WePop/img_1.png', 'com.mojang.minecraftpe/img_0.png', 'com.pixel.gun3d/img_1.png', 'free.os.jump.superbros.adventure.world/img_6.png', 'com.turbodreamzgamerz.pregnant.mom.babysitter.daycare.family.game/img_2.png', 'com.best3dmobilegames.TemplePrince.Castleendlessrun.lost.junglerun/img_1.png', 'com.leiting.doll.aligames/img_8.png', 'com.leiting.elona/img_3.png', 'com.gamedevltd.wwh/img_5.png', 'com.DNSstudio.MingtheKing/img_5.png', 'com.netease.hzmbqs/img_9.png', 'com.ustwo.monumentvalley/img_2.png', 'com.APPATRIX.high.school.girl/img_3.png', 'com.mjqq.jzsg/img_7.png', 'com.gamedreamer.fcitw/img_2.png', 'com.efun.twszqy/img_4.png', 'com.outfit7.movingeye.swampattack/img_3.png', 'com.tencent.tmgp.yongyong.clx/img_0.png', 'com.miHoYo.bh3tw/img_5.png', 'com.fingersoft.benjibananas/img_7.png', 'com.match3blaster.DropStackBallFall/img_0.png', 'com.tencent.game.rhythmmaster/img_3.png', 'com.JindoBlu.TwoPlayerGamesChallenge/img_5.png', 'com.naturalmotion.clumsyninja/img_3.png', 'com.hkmanjuu.azurlane.gp/img_1.png', 'hk.com.szn.lz/img_4.png', 'com.zloong.os.mszy/img_1.png', 'com.playrix.homescapes/img_0.png', 'marble.egypt.blast/img_4.png', 'com.rovio.angrybirdsfriends/img_6.png', 'com.ankama.kingcrusher/img_2.png', 'com.tencent.tmgp.sskgame/img_4.png', 'com.gameley.blademaster.spinning.en/img_6.png', 'com.joydo.minestrikenew/img_1.png', 'com.renemueller.dungeonamazonrun/img_1.png', 'air.com.shirogames.evoland12/img_1.png', 'com.tencent.tmgp.tstl/img_10.png', 'net.gamon.loveliveTW/img_8.png', 'com.ankama.dofustouch/img_0.png', 'com.tencent.tmgp.cf/img_6.png', 'net.froemling.bombsquad/img_1.png', 'com.gameloft.android.ANMP.GloftMVHM/img_12.png', 'com.netease.my.google_play/img_1.png', 'com.aoctona.captain.fly.marvel/img_1.png', 'com.frogmind.badland/img_8.png', 'com.netease.idv.googleplay/img_6.png']\n",
      "['com.tencent.swy/img_7.png', 'com.tencent.gwgo/img_13.png', 'tw.com.iwplay.pwm/img_0.png', 'com.tencent.KiHan/img_2.png', 'com.gameloft.android.ANMP.GloftM5HM/img_0.png', 'com.zeptolab.cats.google/', 'com.kongregate.mobile.burritobison3.google/img_0.png', 'com.miniclip.bowmasters/img_2.png', 'tw.txwy.and.snqx/img_9.png', 'com.jiinfeng3d.bfrdemo/img_2.png', 'com.titan.cd.gb/img_3.png', 'com.manababa.BeggarKing2/img_2.png', 'com.korovankvy.drunkenfights/img_1.png', 'com.kongregate.mobile.throwdown.google/img_4.png', 'com.tencent.ig/img_15.png', 'com.cassette.aquapark/img_2.png', 'com.netease.ddsfna/img_2.png', 'com.xiaomeng.fategrandorder/img_4.png', 'com.tencent.tmgp.tx/img_6.png', 'com.rtsoft.growtopia/img_4.png', 'com.papegames.nn4.tw/img_2.png', 'com.kohistani.Hunter/img_1.png', 'com.prpr.musedash/img_2.png', 'com.hypergryph.arknights/img_4.png', 'com.funworksstudio.captainvsthunder/', 'com.fivebyte.lifeisagame/img_8.png', 'com.tencent.pao/img_2.png', 'com.lima.doodlejump/img_2.png', 'com.tencent.raziel/img_10.png', 'com.netease.onmyoji.na/img_2.png', 'com.king.candycrushsaga/img_4.png', 'com.ketchapp.bikerush/img_2.png', 'com.CubeSoftware.BattleOfWarships/img_13.png', 'com.sigmateam.alienshootermobile.free/img_1.png', 'com.gameinsight.mirrorsofalbionandroid/img_2.png', 'com.futureplay.battleground/img_3.png', 'com.os.airforce/img_9.png', 'com.sofunny.Sausage/img_5.png', 'com.budgestudios.googleplay.ThomasAndFriendsMagicalTracks/img_10.png', 'com.rovio.battlebay/img_0.png', 'com.cherrypickgames.olimpiagames2016/img_3.png', 'com.garena.game.kgtw/img_5.png', 'com.madhead.tos.zh/img_3.png', 'com.superwave.goldrush.android.googleplay/img_4.png', 'com.vshower.prd_sr/img_11.png', 'com.garena.game.fctw/img_10.png', 'com.pocapp.castlecats/img_3.png', 'com.ea.game.simcitymobile_row/img_4.png', 'com.heliogames.westland/img_1.png', 'com.netease.mrzhna/img_5.png', 'com.playgendary.sportmasters/img_3.png', 'com.supercell.clashroyale/img_0.png', 'com.tencent.gnyx.jiaqi/img_5.png', 'com.gamedevltd.destinywarfare/img_6.png', 'com.whatgames.android.ANMP.FAHM/img_5.png', 'com.herogame.gplay.magicminecraft.mmorpg/img_0.png', 'com.ChillyRoom.DungeonShooter/img_10.png', 'com.tencent.af/img_2.png', 'com.ankama.dragnboom/img_1.png', 'com.qcplay.slimegogogo/img_5.png', 'jp.co.capcom.palmcn/img_3.png', 'com.tencent.yunmeng/img_16.png', 'com.supercell.brawlstars/img_1.png', 'com.wordmobile.prisonstorm/img_3.png', 'com.endless.run.oz.temple.escape/img_0.png', 'net.kairosoft.android.bouken_en/img_3.png', 'tw.txwy.and.wll/img_4.png', 'com.supertapx.bigbigballer/img_5.png', 'com.gamedreamer.tw.newstzbhk/img_4.png', 'com.generagames.resistance/img_2.png', 'com.gravity.ro.and/img_4.png', 'com.tencent.tmgp.WePop/img_0.png', 'com.mojang.minecraftpe/img_4.png', 'com.pixel.gun3d/', 'free.os.jump.superbros.adventure.world/img_4.png', 'com.turbodreamzgamerz.pregnant.mom.babysitter.daycare.family.game/img_0.png', 'com.best3dmobilegames.TemplePrince.Castleendlessrun.lost.junglerun/img_0.png', 'com.leiting.doll.aligames/img_4.png', 'com.leiting.elona/img_0.png', 'com.gamedevltd.wwh/img_7.png', 'com.DNSstudio.MingtheKing/img_1.png', 'com.netease.hzmbqs/img_3.png', 'com.ustwo.monumentvalley/img_5.png', 'com.APPATRIX.high.school.girl/img_2.png', 'com.mjqq.jzsg/img_6.png', 'com.gamedreamer.fcitw/img_4.png', 'com.efun.twszqy/img_12.png', 'com.outfit7.movingeye.swampattack/img_2.png', 'com.tencent.tmgp.yongyong.clx/img_1.png', 'com.miHoYo.bh3tw/img_0.png', 'com.fingersoft.benjibananas/img_14.png', 'com.match3blaster.DropStackBallFall/img_1.png', 'com.tencent.game.rhythmmaster/img_2.png', 'com.JindoBlu.TwoPlayerGamesChallenge/img_9.png', 'com.naturalmotion.clumsyninja/img_4.png', 'com.hkmanjuu.azurlane.gp/img_2.png', 'hk.com.szn.lz/img_0.png', 'com.zloong.os.mszy/img_3.png', 'com.playrix.homescapes/img_4.png', 'marble.egypt.blast/img_0.png', 'com.rovio.angrybirdsfriends/img_2.png', 'com.ankama.kingcrusher/img_9.png', 'com.tencent.tmgp.sskgame/img_2.png', 'com.gameley.blademaster.spinning.en/img_7.png', 'com.joydo.minestrikenew/img_2.png', 'com.renemueller.dungeonamazonrun/img_2.png', 'air.com.shirogames.evoland12/img_4.png', 'com.tencent.tmgp.tstl/img_1.png', 'net.gamon.loveliveTW/img_3.png', 'com.ankama.dofustouch/', 'com.tencent.tmgp.cf/img_2.png', 'net.froemling.bombsquad/img_0.png', 'com.gameloft.android.ANMP.GloftMVHM/img_4.png', 'com.netease.my.google_play/', 'com.aoctona.captain.fly.marvel/', 'com.frogmind.badland/img_2.png', 'com.netease.idv.googleplay/img_4.png']\n"
     ]
    }
   ],
   "source": [
    "game = os.listdir(images_path)\n",
    "n = len(game)\n",
    "test = []\n",
    "valid =[]\n",
    "for i in range(n):\n",
    "    name_game = game[i]\n",
    "    game_path = os.path.join(images_path,name_game)\n",
    "    images = os.listdir(game_path)\n",
    "    if 0 < len(images) < 3 :\n",
    "        test_image = images[0]\n",
    "        valid_image = ''\n",
    "    else :\n",
    "        img = np.random.choice(images, size=2, replace=False, p=None)\n",
    "        test_image = img[0]\n",
    "        valid_image = img[1]\n",
    "    test.append(name_game + '/' + str(test_image))\n",
    "    valid.append(name_game + '/' + str(valid_image))\n",
    "    \n",
    "print(test)\n",
    "print(valid)"
   ]
  },
  {
   "cell_type": "markdown",
   "metadata": {
    "pycharm": {
     "name": "#%% md\n"
    }
   },
   "source": [
    "## write data"
   ]
  },
  {
   "cell_type": "code",
   "execution_count": 5,
   "metadata": {},
   "outputs": [
    {
     "name": "stdout",
     "output_type": "stream",
     "text": [
      "        id                                          filename  o_0  o_1  o_2  \\\n",
      "0        0                com.tencent.tmgp.sskgame/img_1.png    2    3    4   \n",
      "1        1                         tw.txwy.and.wll/img_2.png    3    3    3   \n",
      "2        2  com.kongregate.mobile.throwdown.google/img_3.png    3    2    3   \n",
      "3        3                    com.kohistani.Hunter/img_3.png    2    2    2   \n",
      "4        4             com.futureplay.battleground/img_0.png    2    4    4   \n",
      "...    ...                                               ...  ...  ...  ...   \n",
      "1086  1086                        tw.txwy.and.snqx/img_7.png    3    4    3   \n",
      "1087  1087                         com.titan.cd.gb/img_5.png    3    4    4   \n",
      "1088  1088                   com.tencent.tmgp.tstl/img_9.png    3    3    4   \n",
      "1089  1089  free.os.jump.superbros.adventure.world/img_6.png    3    3    3   \n",
      "1090  1090                        tw.txwy.and.snqx/img_0.png    3    3    4   \n",
      "\n",
      "      o_3  o_4  o_5  o_6  o_7  ...  f_11  f_12  f_13  f_14  f_15  f_16  f_17  \\\n",
      "0       3    3    2    4    3  ...     3     3     4     3     4     1     4   \n",
      "1       4    3    3    3    4  ...     5     4     3     2     2     3     4   \n",
      "2       3    3    3    3    2  ...     4     2     4     5     2     5     3   \n",
      "3       3    2    2    1    2  ...     4     1     3     1     2     1     4   \n",
      "4       3    3    3    3    3  ...     3     4     4     2     3     1     2   \n",
      "...   ...  ...  ...  ...  ...  ...   ...   ...   ...   ...   ...   ...   ...   \n",
      "1086    3    2    4    3    4  ...     4     2     4     3     4     4     3   \n",
      "1087    4    3    3    3    3  ...     4     1     4     2     3     1     3   \n",
      "1088    4    2    3    3    5  ...     3     3     4     3     3     4     3   \n",
      "1089    3    3    3    2    3  ...     1     1     2     5     3     3     2   \n",
      "1090    3    3    4    4    5  ...     5     3     4     4     4     4     4   \n",
      "\n",
      "      f_18  f_19   type  \n",
      "0        1     3  train  \n",
      "1        3     2  train  \n",
      "2        3     1  train  \n",
      "3        1     1  train  \n",
      "4        2     1  train  \n",
      "...    ...   ...    ...  \n",
      "1086     3     1   test  \n",
      "1087     2     3  train  \n",
      "1088     2     3  train  \n",
      "1089     3     1   test  \n",
      "1090     3     2  train  \n",
      "\n",
      "[1091 rows x 83 columns]\n"
     ]
    }
   ],
   "source": [
    "def divide_set(filename) :\n",
    "    if filename in test:\n",
    "        return 'test'\n",
    "    elif filename in valid:\n",
    "        return 'validation'\n",
    "    else:\n",
    "        return 'train'\n",
    "        \n",
    "all['type'] = all['filename'].map(lambda x : divide_set(x))\n",
    "print(all)\n"
   ]
  },
  {
   "cell_type": "code",
   "execution_count": 6,
   "metadata": {},
   "outputs": [],
   "source": [
    "all.to_csv(data_path + '/all.csv', index=False, header=True)"
   ]
  }
 ],
 "metadata": {
  "kernelspec": {
   "display_name": "Python 3",
   "language": "python",
   "name": "python3"
  },
  "language_info": {
   "codemirror_mode": {
    "name": "ipython",
    "version": 3
   },
   "file_extension": ".py",
   "mimetype": "text/x-python",
   "name": "python",
   "nbconvert_exporter": "python",
   "pygments_lexer": "ipython3",
   "version": "3.6.12"
  }
 },
 "nbformat": 4,
 "nbformat_minor": 4
}
